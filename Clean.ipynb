{
 "nbformat": 4,
 "nbformat_minor": 2,
 "metadata": {
  "language_info": {
   "name": "python",
   "codemirror_mode": {
    "name": "ipython",
    "version": 3
   },
   "version": "3.6.9"
  },
  "orig_nbformat": 2,
  "file_extension": ".py",
  "mimetype": "text/x-python",
  "name": "python",
  "npconvert_exporter": "python",
  "pygments_lexer": "ipython3",
  "version": 3
 },
 "cells": [
  {
   "cell_type": "code",
   "execution_count": 1,
   "metadata": {},
   "outputs": [],
   "source": [
    "import pandas as pd\n",
    "import numpy as np"
   ]
  },
  {
   "cell_type": "code",
   "execution_count": 3,
   "metadata": {},
   "outputs": [
    {
     "data": {
      "text/html": "<div>\n<style scoped>\n    .dataframe tbody tr th:only-of-type {\n        vertical-align: middle;\n    }\n\n    .dataframe tbody tr th {\n        vertical-align: top;\n    }\n\n    .dataframe thead th {\n        text-align: right;\n    }\n</style>\n<table border=\"1\" class=\"dataframe\">\n  <thead>\n    <tr style=\"text-align: right;\">\n      <th></th>\n      <th>movie_title</th>\n      <th>movie_info</th>\n      <th>critics_consensus</th>\n      <th>poster_image_url</th>\n      <th>rating</th>\n      <th>genre</th>\n      <th>directors</th>\n      <th>writers</th>\n      <th>cast</th>\n      <th>in_theaters_date</th>\n      <th>...</th>\n      <th>studio_name</th>\n      <th>tomatometer_status</th>\n      <th>tomatometer_rating</th>\n      <th>tomatometer_count</th>\n      <th>audience_status</th>\n      <th>audience_rating</th>\n      <th>audience_count</th>\n      <th>audience_top_critics_count</th>\n      <th>audience_fresh_critics_count</th>\n      <th>audience_rotten_critics_count</th>\n    </tr>\n    <tr>\n      <th>rotten_tomatoes_link</th>\n      <th></th>\n      <th></th>\n      <th></th>\n      <th></th>\n      <th></th>\n      <th></th>\n      <th></th>\n      <th></th>\n      <th></th>\n      <th></th>\n      <th></th>\n      <th></th>\n      <th></th>\n      <th></th>\n      <th></th>\n      <th></th>\n      <th></th>\n      <th></th>\n      <th></th>\n      <th></th>\n      <th></th>\n    </tr>\n  </thead>\n  <tbody>\n    <tr>\n      <td>/m/0814255</td>\n      <td>Percy Jackson &amp; the Olympians: The Lightning T...</td>\n      <td>A teenager discovers he's the descendant of a ...</td>\n      <td>Though it may seem like just another Harry Pot...</td>\n      <td>https://resizing.flixster.com/p1veUpQ4ktsSHtRu...</td>\n      <td>PG</td>\n      <td>Action &amp; Adventure, Comedy, Drama, Science Fic...</td>\n      <td>Chris Columbus</td>\n      <td>Craig Titley</td>\n      <td>Logan Lerman, Brandon T. Jackson, Alexandra Da...</td>\n      <td>2010-02-12</td>\n      <td>...</td>\n      <td>20th Century Fox</td>\n      <td>Rotten</td>\n      <td>49</td>\n      <td>144</td>\n      <td>Spilled</td>\n      <td>53.0</td>\n      <td>254287.0</td>\n      <td>38</td>\n      <td>71</td>\n      <td>73</td>\n    </tr>\n    <tr>\n      <td>/m/0878835</td>\n      <td>Please Give</td>\n      <td>Kate has a lot on her mind. There's the ethics...</td>\n      <td>Nicole Holofcener's newest might seem slight i...</td>\n      <td>https://resizing.flixster.com/0AbudQ4KsB4BeXSB...</td>\n      <td>R</td>\n      <td>Comedy</td>\n      <td>Nicole Holofcener</td>\n      <td>Nicole Holofcener</td>\n      <td>Catherine Keener, Amanda Peet, Oliver Platt, R...</td>\n      <td>2010-04-30</td>\n      <td>...</td>\n      <td>Sony Pictures Classics</td>\n      <td>Certified Fresh</td>\n      <td>86</td>\n      <td>140</td>\n      <td>Upright</td>\n      <td>64.0</td>\n      <td>11567.0</td>\n      <td>43</td>\n      <td>121</td>\n      <td>19</td>\n    </tr>\n    <tr>\n      <td>/m/10</td>\n      <td>10</td>\n      <td>Blake Edwards' 10 stars Dudley Moore as George...</td>\n      <td>NaN</td>\n      <td>https://resizing.flixster.com/mF0dxH6UTa0FdkMs...</td>\n      <td>R</td>\n      <td>Comedy, Romance</td>\n      <td>Blake Edwards</td>\n      <td>Blake Edwards</td>\n      <td>Dudley Moore, Bo Derek, Julie Andrews, Robert ...</td>\n      <td>1979-10-05</td>\n      <td>...</td>\n      <td>Waner Bros.</td>\n      <td>Fresh</td>\n      <td>68</td>\n      <td>22</td>\n      <td>Spilled</td>\n      <td>53.0</td>\n      <td>14670.0</td>\n      <td>2</td>\n      <td>15</td>\n      <td>7</td>\n    </tr>\n    <tr>\n      <td>/m/1000013-12_angry_men</td>\n      <td>12 Angry Men (Twelve Angry Men)</td>\n      <td>A Puerto Rican youth is on trial for murder, a...</td>\n      <td>Sidney Lumet's feature debut is a superbly wri...</td>\n      <td>https://resizing.flixster.com/u-8xAyGaDVvROLiR...</td>\n      <td>NR</td>\n      <td>Classics, Drama</td>\n      <td>Sidney Lumet</td>\n      <td>Reginald Rose</td>\n      <td>Martin Balsam, John Fiedler, Lee J. Cobb, E.G....</td>\n      <td>1957-04-13</td>\n      <td>...</td>\n      <td>Criterion Collection</td>\n      <td>Certified Fresh</td>\n      <td>100</td>\n      <td>51</td>\n      <td>Upright</td>\n      <td>97.0</td>\n      <td>105000.0</td>\n      <td>6</td>\n      <td>51</td>\n      <td>0</td>\n    </tr>\n    <tr>\n      <td>/m/1000079-20000_leagues_under_the_sea</td>\n      <td>20,000 Leagues Under The Sea</td>\n      <td>This 1954 Disney version of Jules Verne's 20,0...</td>\n      <td>One of Disney's finest live-action adventures,...</td>\n      <td>https://resizing.flixster.com/FKExgYBHu07XLoil...</td>\n      <td>G</td>\n      <td>Action &amp; Adventure, Drama, Kids &amp; Family</td>\n      <td>Richard Fleischer</td>\n      <td>Earl Felton</td>\n      <td>James Mason, Kirk Douglas, Paul Lukas, Peter L...</td>\n      <td>1954-01-01</td>\n      <td>...</td>\n      <td>Disney</td>\n      <td>Fresh</td>\n      <td>89</td>\n      <td>27</td>\n      <td>Upright</td>\n      <td>74.0</td>\n      <td>68860.0</td>\n      <td>5</td>\n      <td>24</td>\n      <td>3</td>\n    </tr>\n  </tbody>\n</table>\n<p>5 rows × 22 columns</p>\n</div>",
      "text/plain": "                                                                              movie_title  \\\nrotten_tomatoes_link                                                                        \n/m/0814255                              Percy Jackson & the Olympians: The Lightning T...   \n/m/0878835                                                                    Please Give   \n/m/10                                                                                  10   \n/m/1000013-12_angry_men                                   12 Angry Men (Twelve Angry Men)   \n/m/1000079-20000_leagues_under_the_sea                       20,000 Leagues Under The Sea   \n\n                                                                               movie_info  \\\nrotten_tomatoes_link                                                                        \n/m/0814255                              A teenager discovers he's the descendant of a ...   \n/m/0878835                              Kate has a lot on her mind. There's the ethics...   \n/m/10                                   Blake Edwards' 10 stars Dudley Moore as George...   \n/m/1000013-12_angry_men                 A Puerto Rican youth is on trial for murder, a...   \n/m/1000079-20000_leagues_under_the_sea  This 1954 Disney version of Jules Verne's 20,0...   \n\n                                                                        critics_consensus  \\\nrotten_tomatoes_link                                                                        \n/m/0814255                              Though it may seem like just another Harry Pot...   \n/m/0878835                              Nicole Holofcener's newest might seem slight i...   \n/m/10                                                                                 NaN   \n/m/1000013-12_angry_men                 Sidney Lumet's feature debut is a superbly wri...   \n/m/1000079-20000_leagues_under_the_sea  One of Disney's finest live-action adventures,...   \n\n                                                                         poster_image_url  \\\nrotten_tomatoes_link                                                                        \n/m/0814255                              https://resizing.flixster.com/p1veUpQ4ktsSHtRu...   \n/m/0878835                              https://resizing.flixster.com/0AbudQ4KsB4BeXSB...   \n/m/10                                   https://resizing.flixster.com/mF0dxH6UTa0FdkMs...   \n/m/1000013-12_angry_men                 https://resizing.flixster.com/u-8xAyGaDVvROLiR...   \n/m/1000079-20000_leagues_under_the_sea  https://resizing.flixster.com/FKExgYBHu07XLoil...   \n\n                                       rating  \\\nrotten_tomatoes_link                            \n/m/0814255                                 PG   \n/m/0878835                                  R   \n/m/10                                       R   \n/m/1000013-12_angry_men                    NR   \n/m/1000079-20000_leagues_under_the_sea      G   \n\n                                                                                    genre  \\\nrotten_tomatoes_link                                                                        \n/m/0814255                              Action & Adventure, Comedy, Drama, Science Fic...   \n/m/0878835                                                                         Comedy   \n/m/10                                                                     Comedy, Romance   \n/m/1000013-12_angry_men                                                   Classics, Drama   \n/m/1000079-20000_leagues_under_the_sea           Action & Adventure, Drama, Kids & Family   \n\n                                                directors            writers  \\\nrotten_tomatoes_link                                                           \n/m/0814255                                 Chris Columbus       Craig Titley   \n/m/0878835                              Nicole Holofcener  Nicole Holofcener   \n/m/10                                       Blake Edwards      Blake Edwards   \n/m/1000013-12_angry_men                      Sidney Lumet      Reginald Rose   \n/m/1000079-20000_leagues_under_the_sea  Richard Fleischer        Earl Felton   \n\n                                                                                     cast  \\\nrotten_tomatoes_link                                                                        \n/m/0814255                              Logan Lerman, Brandon T. Jackson, Alexandra Da...   \n/m/0878835                              Catherine Keener, Amanda Peet, Oliver Platt, R...   \n/m/10                                   Dudley Moore, Bo Derek, Julie Andrews, Robert ...   \n/m/1000013-12_angry_men                 Martin Balsam, John Fiedler, Lee J. Cobb, E.G....   \n/m/1000079-20000_leagues_under_the_sea  James Mason, Kirk Douglas, Paul Lukas, Peter L...   \n\n                                       in_theaters_date  ...  \\\nrotten_tomatoes_link                                     ...   \n/m/0814255                                   2010-02-12  ...   \n/m/0878835                                   2010-04-30  ...   \n/m/10                                        1979-10-05  ...   \n/m/1000013-12_angry_men                      1957-04-13  ...   \n/m/1000079-20000_leagues_under_the_sea       1954-01-01  ...   \n\n                                                   studio_name  \\\nrotten_tomatoes_link                                             \n/m/0814255                                    20th Century Fox   \n/m/0878835                              Sony Pictures Classics   \n/m/10                                              Waner Bros.   \n/m/1000013-12_angry_men                   Criterion Collection   \n/m/1000079-20000_leagues_under_the_sea                  Disney   \n\n                                        tomatometer_status tomatometer_rating  \\\nrotten_tomatoes_link                                                            \n/m/0814255                                          Rotten                 49   \n/m/0878835                                 Certified Fresh                 86   \n/m/10                                                Fresh                 68   \n/m/1000013-12_angry_men                    Certified Fresh                100   \n/m/1000079-20000_leagues_under_the_sea               Fresh                 89   \n\n                                       tomatometer_count  audience_status  \\\nrotten_tomatoes_link                                                        \n/m/0814255                                           144          Spilled   \n/m/0878835                                           140          Upright   \n/m/10                                                 22          Spilled   \n/m/1000013-12_angry_men                               51          Upright   \n/m/1000079-20000_leagues_under_the_sea                27          Upright   \n\n                                        audience_rating audience_count  \\\nrotten_tomatoes_link                                                     \n/m/0814255                                         53.0       254287.0   \n/m/0878835                                         64.0        11567.0   \n/m/10                                              53.0        14670.0   \n/m/1000013-12_angry_men                            97.0       105000.0   \n/m/1000079-20000_leagues_under_the_sea             74.0        68860.0   \n\n                                        audience_top_critics_count  \\\nrotten_tomatoes_link                                                 \n/m/0814255                                                      38   \n/m/0878835                                                      43   \n/m/10                                                            2   \n/m/1000013-12_angry_men                                          6   \n/m/1000079-20000_leagues_under_the_sea                           5   \n\n                                        audience_fresh_critics_count  \\\nrotten_tomatoes_link                                                   \n/m/0814255                                                        71   \n/m/0878835                                                       121   \n/m/10                                                             15   \n/m/1000013-12_angry_men                                           51   \n/m/1000079-20000_leagues_under_the_sea                            24   \n\n                                        audience_rotten_critics_count  \nrotten_tomatoes_link                                                   \n/m/0814255                                                         73  \n/m/0878835                                                         19  \n/m/10                                                               7  \n/m/1000013-12_angry_men                                             0  \n/m/1000079-20000_leagues_under_the_sea                              3  \n\n[5 rows x 22 columns]"
     },
     "execution_count": 3,
     "metadata": {},
     "output_type": "execute_result"
    }
   ],
   "source": [
    "df_tomato = pd.read_csv(\"rotten_tomatoes_movies.csv\", index_col=0)\n",
    "df_tomato.head()"
   ]
  },
  {
   "cell_type": "code",
   "execution_count": 5,
   "metadata": {},
   "outputs": [
    {
     "data": {
      "text/html": "<div>\n<style scoped>\n    .dataframe tbody tr th:only-of-type {\n        vertical-align: middle;\n    }\n\n    .dataframe tbody tr th {\n        vertical-align: top;\n    }\n\n    .dataframe thead th {\n        text-align: right;\n    }\n</style>\n<table border=\"1\" class=\"dataframe\">\n  <thead>\n    <tr style=\"text-align: right;\">\n      <th></th>\n      <th>title</th>\n      <th>original_title</th>\n      <th>year</th>\n      <th>date_published</th>\n      <th>genre</th>\n      <th>duration</th>\n      <th>country</th>\n      <th>language</th>\n      <th>director</th>\n      <th>writer</th>\n      <th>...</th>\n      <th>actors</th>\n      <th>description</th>\n      <th>avg_vote</th>\n      <th>votes</th>\n      <th>budget</th>\n      <th>usa_gross_income</th>\n      <th>worlwide_gross_income</th>\n      <th>metascore</th>\n      <th>reviews_from_users</th>\n      <th>reviews_from_critics</th>\n    </tr>\n    <tr>\n      <th>imdb_title_id</th>\n      <th></th>\n      <th></th>\n      <th></th>\n      <th></th>\n      <th></th>\n      <th></th>\n      <th></th>\n      <th></th>\n      <th></th>\n      <th></th>\n      <th></th>\n      <th></th>\n      <th></th>\n      <th></th>\n      <th></th>\n      <th></th>\n      <th></th>\n      <th></th>\n      <th></th>\n      <th></th>\n      <th></th>\n    </tr>\n  </thead>\n  <tbody>\n    <tr>\n      <td>tt0000574</td>\n      <td>The Story of the Kelly Gang</td>\n      <td>The Story of the Kelly Gang</td>\n      <td>1906</td>\n      <td>1906-12-26</td>\n      <td>Biography, Crime, Drama</td>\n      <td>70</td>\n      <td>Australia</td>\n      <td>NaN</td>\n      <td>Charles Tait</td>\n      <td>Charles Tait</td>\n      <td>...</td>\n      <td>Elizabeth Tait, John Tait, Norman Campbell, Be...</td>\n      <td>True story of notorious Australian outlaw Ned ...</td>\n      <td>6.1</td>\n      <td>537</td>\n      <td>$ 2250</td>\n      <td>NaN</td>\n      <td>NaN</td>\n      <td>NaN</td>\n      <td>7.0</td>\n      <td>7.0</td>\n    </tr>\n    <tr>\n      <td>tt0001892</td>\n      <td>Den sorte drøm</td>\n      <td>Den sorte drøm</td>\n      <td>1911</td>\n      <td>1911-08-19</td>\n      <td>Drama</td>\n      <td>53</td>\n      <td>Germany, Denmark</td>\n      <td>NaN</td>\n      <td>Urban Gad</td>\n      <td>Urban Gad, Gebhard Schätzler-Perasini</td>\n      <td>...</td>\n      <td>Asta Nielsen, Valdemar Psilander, Gunnar Helse...</td>\n      <td>Two men of high rank are both wooing the beaut...</td>\n      <td>5.9</td>\n      <td>171</td>\n      <td>NaN</td>\n      <td>NaN</td>\n      <td>NaN</td>\n      <td>NaN</td>\n      <td>4.0</td>\n      <td>2.0</td>\n    </tr>\n    <tr>\n      <td>tt0002101</td>\n      <td>Cleopatra</td>\n      <td>Cleopatra</td>\n      <td>1912</td>\n      <td>1912-11-13</td>\n      <td>Drama, History</td>\n      <td>100</td>\n      <td>USA</td>\n      <td>English</td>\n      <td>Charles L. Gaskill</td>\n      <td>Victorien Sardou</td>\n      <td>...</td>\n      <td>Helen Gardner, Pearl Sindelar, Miss Fielding, ...</td>\n      <td>The fabled queen of Egypt's affair with Roman ...</td>\n      <td>5.2</td>\n      <td>420</td>\n      <td>$ 45000</td>\n      <td>NaN</td>\n      <td>NaN</td>\n      <td>NaN</td>\n      <td>24.0</td>\n      <td>3.0</td>\n    </tr>\n    <tr>\n      <td>tt0002130</td>\n      <td>L'Inferno</td>\n      <td>L'Inferno</td>\n      <td>1911</td>\n      <td>1911-03-06</td>\n      <td>Adventure, Drama, Fantasy</td>\n      <td>68</td>\n      <td>Italy</td>\n      <td>Italian</td>\n      <td>Francesco Bertolini, Adolfo Padovan</td>\n      <td>Dante Alighieri</td>\n      <td>...</td>\n      <td>Salvatore Papa, Arturo Pirovano, Giuseppe de L...</td>\n      <td>Loosely adapted from Dante's Divine Comedy and...</td>\n      <td>7.0</td>\n      <td>2019</td>\n      <td>NaN</td>\n      <td>NaN</td>\n      <td>NaN</td>\n      <td>NaN</td>\n      <td>28.0</td>\n      <td>14.0</td>\n    </tr>\n    <tr>\n      <td>tt0002199</td>\n      <td>From the Manger to the Cross; or, Jesus of Naz...</td>\n      <td>From the Manger to the Cross; or, Jesus of Naz...</td>\n      <td>1912</td>\n      <td>1913</td>\n      <td>Biography, Drama</td>\n      <td>60</td>\n      <td>USA</td>\n      <td>English</td>\n      <td>Sidney Olcott</td>\n      <td>Gene Gauntier</td>\n      <td>...</td>\n      <td>R. Henderson Bland, Percy Dyer, Gene Gauntier,...</td>\n      <td>An account of the life of Jesus Christ, based ...</td>\n      <td>5.7</td>\n      <td>438</td>\n      <td>NaN</td>\n      <td>NaN</td>\n      <td>NaN</td>\n      <td>NaN</td>\n      <td>12.0</td>\n      <td>5.0</td>\n    </tr>\n  </tbody>\n</table>\n<p>5 rows × 21 columns</p>\n</div>",
      "text/plain": "                                                           title  \\\nimdb_title_id                                                      \ntt0000574                            The Story of the Kelly Gang   \ntt0001892                                         Den sorte drøm   \ntt0002101                                              Cleopatra   \ntt0002130                                              L'Inferno   \ntt0002199      From the Manger to the Cross; or, Jesus of Naz...   \n\n                                                  original_title  year  \\\nimdb_title_id                                                            \ntt0000574                            The Story of the Kelly Gang  1906   \ntt0001892                                         Den sorte drøm  1911   \ntt0002101                                              Cleopatra  1912   \ntt0002130                                              L'Inferno  1911   \ntt0002199      From the Manger to the Cross; or, Jesus of Naz...  1912   \n\n              date_published                      genre  duration  \\\nimdb_title_id                                                       \ntt0000574         1906-12-26    Biography, Crime, Drama        70   \ntt0001892         1911-08-19                      Drama        53   \ntt0002101         1912-11-13             Drama, History       100   \ntt0002130         1911-03-06  Adventure, Drama, Fantasy        68   \ntt0002199               1913           Biography, Drama        60   \n\n                        country language                             director  \\\nimdb_title_id                                                                   \ntt0000574             Australia      NaN                         Charles Tait   \ntt0001892      Germany, Denmark      NaN                            Urban Gad   \ntt0002101                   USA  English                   Charles L. Gaskill   \ntt0002130                 Italy  Italian  Francesco Bertolini, Adolfo Padovan   \ntt0002199                   USA  English                        Sidney Olcott   \n\n                                              writer  ...  \\\nimdb_title_id                                         ...   \ntt0000574                               Charles Tait  ...   \ntt0001892      Urban Gad, Gebhard Schätzler-Perasini  ...   \ntt0002101                           Victorien Sardou  ...   \ntt0002130                            Dante Alighieri  ...   \ntt0002199                              Gene Gauntier  ...   \n\n                                                          actors  \\\nimdb_title_id                                                      \ntt0000574      Elizabeth Tait, John Tait, Norman Campbell, Be...   \ntt0001892      Asta Nielsen, Valdemar Psilander, Gunnar Helse...   \ntt0002101      Helen Gardner, Pearl Sindelar, Miss Fielding, ...   \ntt0002130      Salvatore Papa, Arturo Pirovano, Giuseppe de L...   \ntt0002199      R. Henderson Bland, Percy Dyer, Gene Gauntier,...   \n\n                                                     description avg_vote  \\\nimdb_title_id                                                               \ntt0000574      True story of notorious Australian outlaw Ned ...      6.1   \ntt0001892      Two men of high rank are both wooing the beaut...      5.9   \ntt0002101      The fabled queen of Egypt's affair with Roman ...      5.2   \ntt0002130      Loosely adapted from Dante's Divine Comedy and...      7.0   \ntt0002199      An account of the life of Jesus Christ, based ...      5.7   \n\n               votes   budget usa_gross_income worlwide_gross_income  \\\nimdb_title_id                                                          \ntt0000574        537   $ 2250              NaN                   NaN   \ntt0001892        171      NaN              NaN                   NaN   \ntt0002101        420  $ 45000              NaN                   NaN   \ntt0002130       2019      NaN              NaN                   NaN   \ntt0002199        438      NaN              NaN                   NaN   \n\n              metascore  reviews_from_users  reviews_from_critics  \nimdb_title_id                                                      \ntt0000574           NaN                 7.0                   7.0  \ntt0001892           NaN                 4.0                   2.0  \ntt0002101           NaN                24.0                   3.0  \ntt0002130           NaN                28.0                  14.0  \ntt0002199           NaN                12.0                   5.0  \n\n[5 rows x 21 columns]"
     },
     "execution_count": 5,
     "metadata": {},
     "output_type": "execute_result"
    }
   ],
   "source": [
    "df_imdb = pd.read_csv(\"IMDb movies.csv\", index_col= 0)\n",
    "df_imdb.head()"
   ]
  },
  {
   "cell_type": "code",
   "execution_count": 13,
   "metadata": {},
   "outputs": [
    {
     "name": "stdout",
     "output_type": "stream",
     "text": "(14378, 22)\n(60401, 21)\n"
    }
   ],
   "source": [
    "# year > 1980\n",
    "df_tomato = df_tomato.drop(df_tomato[pd.DatetimeIndex(df_tomato['in_theaters_date']).year < 1980].index)\n",
    "df_imdb = df_imdb.drop(df_imdb[df_imdb['year'] < 1980].index)\n",
    "print(df_tomato.shape)\n",
    "print(df_imdb.shape)"
   ]
  },
  {
   "cell_type": "code",
   "execution_count": 154,
   "metadata": {},
   "outputs": [
    {
     "data": {
      "text/html": "<div>\n<style scoped>\n    .dataframe tbody tr th:only-of-type {\n        vertical-align: middle;\n    }\n\n    .dataframe tbody tr th {\n        vertical-align: top;\n    }\n\n    .dataframe thead th {\n        text-align: right;\n    }\n</style>\n<table border=\"1\" class=\"dataframe\">\n  <thead>\n    <tr style=\"text-align: right;\">\n      <th></th>\n      <th>title</th>\n      <th>original_title</th>\n      <th>year</th>\n      <th>date_published</th>\n      <th>genre_x</th>\n      <th>duration</th>\n      <th>country</th>\n      <th>language</th>\n      <th>director</th>\n      <th>writer</th>\n      <th>...</th>\n      <th>studio_name</th>\n      <th>tomatometer_status</th>\n      <th>tomatometer_rating</th>\n      <th>tomatometer_count</th>\n      <th>audience_status</th>\n      <th>audience_rating</th>\n      <th>audience_count</th>\n      <th>audience_top_critics_count</th>\n      <th>audience_fresh_critics_count</th>\n      <th>audience_rotten_critics_count</th>\n    </tr>\n  </thead>\n  <tbody>\n    <tr>\n      <td>0</td>\n      <td>Kate &amp; Leopold</td>\n      <td>Kate &amp; Leopold</td>\n      <td>2001</td>\n      <td>2002-04-05</td>\n      <td>Comedy, Fantasy, Romance</td>\n      <td>118</td>\n      <td>USA</td>\n      <td>English, French</td>\n      <td>James Mangold</td>\n      <td>Steven Rogers, James Mangold</td>\n      <td>...</td>\n      <td>Miramax Films</td>\n      <td>Rotten</td>\n      <td>50</td>\n      <td>129</td>\n      <td>Upright</td>\n      <td>62.0</td>\n      <td>189831.0</td>\n      <td>34</td>\n      <td>65</td>\n      <td>64</td>\n    </tr>\n    <tr>\n      <td>1</td>\n      <td>The Other Side of the Wind</td>\n      <td>The Other Side of the Wind</td>\n      <td>2018</td>\n      <td>2018-11-02</td>\n      <td>Drama</td>\n      <td>122</td>\n      <td>France, Iran, USA</td>\n      <td>English, German</td>\n      <td>Orson Welles</td>\n      <td>Orson Welles, Oja Kodar</td>\n      <td>...</td>\n      <td>Netflix</td>\n      <td>Certified Fresh</td>\n      <td>83</td>\n      <td>92</td>\n      <td>Spilled</td>\n      <td>57.0</td>\n      <td>314.0</td>\n      <td>21</td>\n      <td>76</td>\n      <td>16</td>\n    </tr>\n    <tr>\n      <td>2</td>\n      <td>Tusk</td>\n      <td>Tusk</td>\n      <td>1980</td>\n      <td>1980-11-26</td>\n      <td>Drama</td>\n      <td>119</td>\n      <td>France</td>\n      <td>French, English</td>\n      <td>Alejandro Jodorowsky</td>\n      <td>Reginald Campbell, Nicholas Niciphor</td>\n      <td>...</td>\n      <td>A24 Films</td>\n      <td>Rotten</td>\n      <td>45</td>\n      <td>130</td>\n      <td>Spilled</td>\n      <td>36.0</td>\n      <td>12235.0</td>\n      <td>35</td>\n      <td>58</td>\n      <td>72</td>\n    </tr>\n    <tr>\n      <td>3</td>\n      <td>Tusk</td>\n      <td>Tusk</td>\n      <td>2014</td>\n      <td>2014-09-19</td>\n      <td>Comedy, Drama, Horror</td>\n      <td>102</td>\n      <td>USA</td>\n      <td>English</td>\n      <td>Kevin Smith</td>\n      <td>Kevin Smith</td>\n      <td>...</td>\n      <td>A24 Films</td>\n      <td>Rotten</td>\n      <td>45</td>\n      <td>130</td>\n      <td>Spilled</td>\n      <td>36.0</td>\n      <td>12235.0</td>\n      <td>35</td>\n      <td>58</td>\n      <td>72</td>\n    </tr>\n    <tr>\n      <td>4</td>\n      <td>The Border</td>\n      <td>The Border</td>\n      <td>1980</td>\n      <td>1981-08-21</td>\n      <td>Drama, Thriller</td>\n      <td>87</td>\n      <td>UK, Mexico</td>\n      <td>English</td>\n      <td>Christopher Leitch</td>\n      <td>Michael Allin</td>\n      <td>...</td>\n      <td>Universal Pictures</td>\n      <td>Fresh</td>\n      <td>80</td>\n      <td>10</td>\n      <td>Spilled</td>\n      <td>53.0</td>\n      <td>3283.0</td>\n      <td>1</td>\n      <td>8</td>\n      <td>2</td>\n    </tr>\n    <tr>\n      <td>...</td>\n      <td>...</td>\n      <td>...</td>\n      <td>...</td>\n      <td>...</td>\n      <td>...</td>\n      <td>...</td>\n      <td>...</td>\n      <td>...</td>\n      <td>...</td>\n      <td>...</td>\n      <td>...</td>\n      <td>...</td>\n      <td>...</td>\n      <td>...</td>\n      <td>...</td>\n      <td>...</td>\n      <td>...</td>\n      <td>...</td>\n      <td>...</td>\n      <td>...</td>\n      <td>...</td>\n    </tr>\n    <tr>\n      <td>11830</td>\n      <td>The Death of Dick Long</td>\n      <td>The Death of Dick Long</td>\n      <td>2019</td>\n      <td>2019-09-27</td>\n      <td>Comedy, Crime, Drama</td>\n      <td>100</td>\n      <td>USA</td>\n      <td>English</td>\n      <td>Daniel Scheinert</td>\n      <td>Billy Chew</td>\n      <td>...</td>\n      <td>A24</td>\n      <td>Certified Fresh</td>\n      <td>75</td>\n      <td>73</td>\n      <td>Upright</td>\n      <td>86.0</td>\n      <td>7.0</td>\n      <td>13</td>\n      <td>55</td>\n      <td>18</td>\n    </tr>\n    <tr>\n      <td>11831</td>\n      <td>Between Two Ferns: The Movie</td>\n      <td>Between Two Ferns: The Movie</td>\n      <td>2019</td>\n      <td>2019-09-20</td>\n      <td>Comedy</td>\n      <td>82</td>\n      <td>USA</td>\n      <td>English</td>\n      <td>Scott Aukerman</td>\n      <td>Scott Aukerman, Zach Galifianakis</td>\n      <td>...</td>\n      <td>Netflix</td>\n      <td>Certified Fresh</td>\n      <td>77</td>\n      <td>56</td>\n      <td>Spilled</td>\n      <td>41.0</td>\n      <td>83.0</td>\n      <td>13</td>\n      <td>43</td>\n      <td>13</td>\n    </tr>\n    <tr>\n      <td>11832</td>\n      <td>Secret Obsession</td>\n      <td>Secret Obsession</td>\n      <td>2019</td>\n      <td>2019-07-18</td>\n      <td>Drama, Mystery, Thriller</td>\n      <td>97</td>\n      <td>USA</td>\n      <td>English</td>\n      <td>Peter Sullivan</td>\n      <td>Kraig Wenman, Peter Sullivan</td>\n      <td>...</td>\n      <td>NaN</td>\n      <td>Rotten</td>\n      <td>31</td>\n      <td>16</td>\n      <td>Spilled</td>\n      <td>20.0</td>\n      <td>5.0</td>\n      <td>1</td>\n      <td>5</td>\n      <td>11</td>\n    </tr>\n    <tr>\n      <td>11833</td>\n      <td>Revenger</td>\n      <td>Revenger</td>\n      <td>2018</td>\n      <td>2018-12-06</td>\n      <td>Action, Crime, Thriller</td>\n      <td>101</td>\n      <td>South Korea</td>\n      <td>Korean, English</td>\n      <td>Seung-Won Lee</td>\n      <td>NaN</td>\n      <td>...</td>\n      <td>Netflix</td>\n      <td>Rotten</td>\n      <td>40</td>\n      <td>5</td>\n      <td>Spilled</td>\n      <td>53.0</td>\n      <td>43.0</td>\n      <td>0</td>\n      <td>2</td>\n      <td>3</td>\n    </tr>\n    <tr>\n      <td>11834</td>\n      <td>Falling Inn Love</td>\n      <td>Falling Inn Love</td>\n      <td>2019</td>\n      <td>2019-08-29</td>\n      <td>Comedy, Romance</td>\n      <td>98</td>\n      <td>USA</td>\n      <td>English</td>\n      <td>Roger Kumble</td>\n      <td>Elizabeth Hackett, Hilary Galanoy</td>\n      <td>...</td>\n      <td>NaN</td>\n      <td>Fresh</td>\n      <td>61</td>\n      <td>18</td>\n      <td>Spilled</td>\n      <td>31.0</td>\n      <td>156.0</td>\n      <td>3</td>\n      <td>11</td>\n      <td>7</td>\n    </tr>\n  </tbody>\n</table>\n<p>11835 rows × 42 columns</p>\n</div>",
      "text/plain": "                              title                original_title  year  \\\n0                    Kate & Leopold                Kate & Leopold  2001   \n1        The Other Side of the Wind    The Other Side of the Wind  2018   \n2                              Tusk                          Tusk  1980   \n3                              Tusk                          Tusk  2014   \n4                        The Border                    The Border  1980   \n...                             ...                           ...   ...   \n11830        The Death of Dick Long        The Death of Dick Long  2019   \n11831  Between Two Ferns: The Movie  Between Two Ferns: The Movie  2019   \n11832              Secret Obsession              Secret Obsession  2019   \n11833                      Revenger                      Revenger  2018   \n11834              Falling Inn Love              Falling Inn Love  2019   \n\n      date_published                   genre_x  duration            country  \\\n0         2002-04-05  Comedy, Fantasy, Romance       118                USA   \n1         2018-11-02                     Drama       122  France, Iran, USA   \n2         1980-11-26                     Drama       119             France   \n3         2014-09-19     Comedy, Drama, Horror       102                USA   \n4         1981-08-21           Drama, Thriller        87         UK, Mexico   \n...              ...                       ...       ...                ...   \n11830     2019-09-27      Comedy, Crime, Drama       100                USA   \n11831     2019-09-20                    Comedy        82                USA   \n11832     2019-07-18  Drama, Mystery, Thriller        97                USA   \n11833     2018-12-06   Action, Crime, Thriller       101        South Korea   \n11834     2019-08-29           Comedy, Romance        98                USA   \n\n              language              director  \\\n0      English, French         James Mangold   \n1      English, German          Orson Welles   \n2      French, English  Alejandro Jodorowsky   \n3              English           Kevin Smith   \n4              English    Christopher Leitch   \n...                ...                   ...   \n11830          English      Daniel Scheinert   \n11831          English        Scott Aukerman   \n11832          English        Peter Sullivan   \n11833  Korean, English         Seung-Won Lee   \n11834          English          Roger Kumble   \n\n                                     writer  ...         studio_name  \\\n0              Steven Rogers, James Mangold  ...       Miramax Films   \n1                   Orson Welles, Oja Kodar  ...             Netflix   \n2      Reginald Campbell, Nicholas Niciphor  ...           A24 Films   \n3                               Kevin Smith  ...           A24 Films   \n4                             Michael Allin  ...  Universal Pictures   \n...                                     ...  ...                 ...   \n11830                            Billy Chew  ...                 A24   \n11831     Scott Aukerman, Zach Galifianakis  ...             Netflix   \n11832          Kraig Wenman, Peter Sullivan  ...                 NaN   \n11833                                   NaN  ...             Netflix   \n11834     Elizabeth Hackett, Hilary Galanoy  ...                 NaN   \n\n      tomatometer_status tomatometer_rating  tomatometer_count  \\\n0                 Rotten                 50                129   \n1        Certified Fresh                 83                 92   \n2                 Rotten                 45                130   \n3                 Rotten                 45                130   \n4                  Fresh                 80                 10   \n...                  ...                ...                ...   \n11830    Certified Fresh                 75                 73   \n11831    Certified Fresh                 77                 56   \n11832             Rotten                 31                 16   \n11833             Rotten                 40                  5   \n11834              Fresh                 61                 18   \n\n       audience_status audience_rating audience_count  \\\n0              Upright            62.0       189831.0   \n1              Spilled            57.0          314.0   \n2              Spilled            36.0        12235.0   \n3              Spilled            36.0        12235.0   \n4              Spilled            53.0         3283.0   \n...                ...             ...            ...   \n11830          Upright            86.0            7.0   \n11831          Spilled            41.0           83.0   \n11832          Spilled            20.0            5.0   \n11833          Spilled            53.0           43.0   \n11834          Spilled            31.0          156.0   \n\n      audience_top_critics_count  audience_fresh_critics_count  \\\n0                             34                            65   \n1                             21                            76   \n2                             35                            58   \n3                             35                            58   \n4                              1                             8   \n...                          ...                           ...   \n11830                         13                            55   \n11831                         13                            43   \n11832                          1                             5   \n11833                          0                             2   \n11834                          3                            11   \n\n       audience_rotten_critics_count  \n0                                 64  \n1                                 16  \n2                                 72  \n3                                 72  \n4                                  2  \n...                              ...  \n11830                             18  \n11831                             13  \n11832                             11  \n11833                              3  \n11834                              7  \n\n[11835 rows x 42 columns]"
     },
     "execution_count": 154,
     "metadata": {},
     "output_type": "execute_result"
    }
   ],
   "source": [
    "# inner join\n",
    "df = pd.merge(df_imdb,df_tomato.rename(columns = {'movie_title':'title'}), how=\"inner\", on= 'title')\n",
    "df"
   ]
  },
  {
   "cell_type": "code",
   "execution_count": 155,
   "metadata": {},
   "outputs": [
    {
     "data": {
      "text/plain": "array(['title', 'original_title', 'year', 'date_published', 'genre_x',\n       'duration', 'country', 'language', 'director', 'writer',\n       'production_company', 'actors', 'description', 'avg_vote', 'votes',\n       'budget', 'usa_gross_income', 'worlwide_gross_income', 'metascore',\n       'reviews_from_users', 'reviews_from_critics', 'movie_info',\n       'critics_consensus', 'poster_image_url', 'rating', 'genre_y',\n       'directors', 'writers', 'cast', 'in_theaters_date',\n       'on_streaming_date', 'runtime_in_minutes', 'studio_name',\n       'tomatometer_status', 'tomatometer_rating', 'tomatometer_count',\n       'audience_status', 'audience_rating', 'audience_count',\n       'audience_top_critics_count', 'audience_fresh_critics_count',\n       'audience_rotten_critics_count'], dtype=object)"
     },
     "execution_count": 155,
     "metadata": {},
     "output_type": "execute_result"
    }
   ],
   "source": [
    "df.columns.values"
   ]
  },
  {
   "cell_type": "code",
   "execution_count": 156,
   "metadata": {},
   "outputs": [],
   "source": [
    "# drop duplicate columns and all unavailable data before moview release\n",
    "df = df.drop(['original_title', 'description', 'votes','language','critics_consensus','movie_info','poster_image_url','genre_y','directors','writers','cast','runtime_in_minutes','studio_name','tomatometer_status','in_theaters_date','on_streaming_date','tomatometer_count','audience_status','audience_count','audience_top_critics_count', 'audience_fresh_critics_count','audience_rotten_critics_count'], axis=1)"
   ]
  },
  {
   "cell_type": "code",
   "execution_count": 157,
   "metadata": {},
   "outputs": [
    {
     "data": {
      "text/plain": "array(['title', 'year', 'date_published', 'genre_x', 'duration',\n       'country', 'director', 'writer', 'production_company', 'actors',\n       'avg_vote', 'budget', 'usa_gross_income', 'worlwide_gross_income',\n       'metascore', 'reviews_from_users', 'reviews_from_critics',\n       'rating', 'tomatometer_rating', 'audience_rating'], dtype=object)"
     },
     "execution_count": 157,
     "metadata": {},
     "output_type": "execute_result"
    }
   ],
   "source": [
    "df.columns.values"
   ]
  },
  {
   "cell_type": "markdown",
   "execution_count": null,
   "metadata": {},
   "outputs": [],
   "source": [
    "y = 'avg_vote'or 'metascore' or 'reviews_from_users' or 'reviews_from_critics' or 'audience_rating' or 'tomatometer_rating'"
   ]
  },
  {
   "cell_type": "code",
   "execution_count": 160,
   "metadata": {},
   "outputs": [
    {
     "data": {
      "text/html": "<div>\n<style scoped>\n    .dataframe tbody tr th:only-of-type {\n        vertical-align: middle;\n    }\n\n    .dataframe tbody tr th {\n        vertical-align: top;\n    }\n\n    .dataframe thead th {\n        text-align: right;\n    }\n</style>\n<table border=\"1\" class=\"dataframe\">\n  <thead>\n    <tr style=\"text-align: right;\">\n      <th></th>\n      <th>title</th>\n      <th>year</th>\n      <th>date_published</th>\n      <th>genre_x</th>\n      <th>duration</th>\n      <th>country</th>\n      <th>director</th>\n      <th>writer</th>\n      <th>production_company</th>\n      <th>actors</th>\n      <th>avg_vote</th>\n      <th>budget</th>\n      <th>usa_gross_income</th>\n      <th>worlwide_gross_income</th>\n      <th>metascore</th>\n      <th>reviews_from_users</th>\n      <th>reviews_from_critics</th>\n      <th>rating</th>\n      <th>tomatometer_rating</th>\n      <th>audience_rating</th>\n    </tr>\n  </thead>\n  <tbody>\n    <tr>\n      <td>0</td>\n      <td>Kate &amp; Leopold</td>\n      <td>2001</td>\n      <td>2002-04-05</td>\n      <td>Comedy, Fantasy, Romance</td>\n      <td>118</td>\n      <td>USA</td>\n      <td>James Mangold</td>\n      <td>Steven Rogers, James Mangold</td>\n      <td>Konrad Pictures</td>\n      <td>Meg Ryan, Hugh Jackman, Liev Schreiber, Brecki...</td>\n      <td>6.4</td>\n      <td>$ 48000000</td>\n      <td>$ 47121859</td>\n      <td>$ 76019048</td>\n      <td>44.0</td>\n      <td>330.0</td>\n      <td>127.0</td>\n      <td>PG-13</td>\n      <td>50</td>\n      <td>62.0</td>\n    </tr>\n    <tr>\n      <td>1</td>\n      <td>The Other Side of the Wind</td>\n      <td>2018</td>\n      <td>2018-11-02</td>\n      <td>Drama</td>\n      <td>122</td>\n      <td>France, Iran, USA</td>\n      <td>Orson Welles</td>\n      <td>Orson Welles, Oja Kodar</td>\n      <td>Royal Road Entertainment</td>\n      <td>John Huston, Oja Kodar, Peter Bogdanovich, Sus...</td>\n      <td>6.9</td>\n      <td>NaN</td>\n      <td>NaN</td>\n      <td>NaN</td>\n      <td>78.0</td>\n      <td>70.0</td>\n      <td>88.0</td>\n      <td>R</td>\n      <td>83</td>\n      <td>57.0</td>\n    </tr>\n    <tr>\n      <td>2</td>\n      <td>Tusk</td>\n      <td>1980</td>\n      <td>1980-11-26</td>\n      <td>Drama</td>\n      <td>119</td>\n      <td>France</td>\n      <td>Alejandro Jodorowsky</td>\n      <td>Reginald Campbell, Nicholas Niciphor</td>\n      <td>Yang Films</td>\n      <td>Cyrielle Clair, Anton Diffring, Serge Merlin, ...</td>\n      <td>5.0</td>\n      <td>$ 1500000</td>\n      <td>NaN</td>\n      <td>NaN</td>\n      <td>NaN</td>\n      <td>5.0</td>\n      <td>5.0</td>\n      <td>R</td>\n      <td>45</td>\n      <td>36.0</td>\n    </tr>\n    <tr>\n      <td>3</td>\n      <td>Tusk</td>\n      <td>2014</td>\n      <td>2014-09-19</td>\n      <td>Comedy, Drama, Horror</td>\n      <td>102</td>\n      <td>USA</td>\n      <td>Kevin Smith</td>\n      <td>Kevin Smith</td>\n      <td>SModcast Pictures</td>\n      <td>Michael Parks, Justin Long, Genesis Rodriguez,...</td>\n      <td>5.3</td>\n      <td>$ 3000000</td>\n      <td>$ 1826705</td>\n      <td>$ 1882074</td>\n      <td>55.0</td>\n      <td>381.0</td>\n      <td>273.0</td>\n      <td>R</td>\n      <td>45</td>\n      <td>36.0</td>\n    </tr>\n    <tr>\n      <td>4</td>\n      <td>The Border</td>\n      <td>1980</td>\n      <td>1981-08-21</td>\n      <td>Drama, Thriller</td>\n      <td>87</td>\n      <td>UK, Mexico</td>\n      <td>Christopher Leitch</td>\n      <td>Michael Allin</td>\n      <td>Connaught Latham</td>\n      <td>Telly Savalas, Danny De La Paz, Eddie Albert, ...</td>\n      <td>4.5</td>\n      <td>NaN</td>\n      <td>NaN</td>\n      <td>NaN</td>\n      <td>NaN</td>\n      <td>10.0</td>\n      <td>2.0</td>\n      <td>R</td>\n      <td>80</td>\n      <td>53.0</td>\n    </tr>\n  </tbody>\n</table>\n</div>",
      "text/plain": "                        title  year date_published                   genre_x  \\\n0              Kate & Leopold  2001     2002-04-05  Comedy, Fantasy, Romance   \n1  The Other Side of the Wind  2018     2018-11-02                     Drama   \n2                        Tusk  1980     1980-11-26                     Drama   \n3                        Tusk  2014     2014-09-19     Comedy, Drama, Horror   \n4                  The Border  1980     1981-08-21           Drama, Thriller   \n\n   duration            country              director  \\\n0       118                USA         James Mangold   \n1       122  France, Iran, USA          Orson Welles   \n2       119             France  Alejandro Jodorowsky   \n3       102                USA           Kevin Smith   \n4        87         UK, Mexico    Christopher Leitch   \n\n                                 writer        production_company  \\\n0          Steven Rogers, James Mangold           Konrad Pictures   \n1               Orson Welles, Oja Kodar  Royal Road Entertainment   \n2  Reginald Campbell, Nicholas Niciphor                Yang Films   \n3                           Kevin Smith         SModcast Pictures   \n4                         Michael Allin          Connaught Latham   \n\n                                              actors  avg_vote      budget  \\\n0  Meg Ryan, Hugh Jackman, Liev Schreiber, Brecki...       6.4  $ 48000000   \n1  John Huston, Oja Kodar, Peter Bogdanovich, Sus...       6.9         NaN   \n2  Cyrielle Clair, Anton Diffring, Serge Merlin, ...       5.0   $ 1500000   \n3  Michael Parks, Justin Long, Genesis Rodriguez,...       5.3   $ 3000000   \n4  Telly Savalas, Danny De La Paz, Eddie Albert, ...       4.5         NaN   \n\n  usa_gross_income worlwide_gross_income  metascore  reviews_from_users  \\\n0       $ 47121859            $ 76019048       44.0               330.0   \n1              NaN                   NaN       78.0                70.0   \n2              NaN                   NaN        NaN                 5.0   \n3        $ 1826705             $ 1882074       55.0               381.0   \n4              NaN                   NaN        NaN                10.0   \n\n   reviews_from_critics rating  tomatometer_rating  audience_rating  \n0                 127.0  PG-13                  50             62.0  \n1                  88.0      R                  83             57.0  \n2                   5.0      R                  45             36.0  \n3                 273.0      R                  45             36.0  \n4                   2.0      R                  80             53.0  "
     },
     "execution_count": 160,
     "metadata": {},
     "output_type": "execute_result"
    }
   ],
   "source": [
    "df.head()"
   ]
  },
  {
   "cell_type": "code",
   "execution_count": 161,
   "metadata": {},
   "outputs": [],
   "source": [
    "# change the date to timestamp\n",
    "df['date_published'] = df['date_published'].apply(lambda x:pd.Timestamp(x).value if x else 0)"
   ]
  },
  {
   "cell_type": "code",
   "execution_count": 162,
   "metadata": {},
   "outputs": [
    {
     "name": "stderr",
     "output_type": "stream",
     "text": "/Users/xiapengdi/anaconda3/lib/python3.6/site-packages/ipykernel_launcher.py:3: SettingWithCopyWarning: \nA value is trying to be set on a copy of a slice from a DataFrame.\nTry using .loc[row_indexer,col_indexer] = value instead\n\nSee the caveats in the documentation: http://pandas.pydata.org/pandas-docs/stable/user_guide/indexing.html#returning-a-view-versus-a-copy\n  This is separate from the ipykernel package so we can avoid doing imports until\n"
    }
   ],
   "source": [
    "# regulate budget\n",
    "df = df.dropna(subset = ['budget'])\n",
    "df['budget'] = df['budget'].apply(lambda x:x[1:] if x and x[:1]== '$' else None)\n",
    "df = df.dropna(subset = ['budget'])"
   ]
  },
  {
   "cell_type": "code",
   "execution_count": 169,
   "metadata": {},
   "outputs": [],
   "source": [
    "# df['usa_gross_income']\n",
    "df = df.dropna(subset = ['usa_gross_income'])\n",
    "df = df.dropna(subset = ['worlwide_gross_income'])\n",
    "df['usa_gross_income'] = df['usa_gross_income'].apply(lambda x:x[1:] if x[:1]== '$' else None)\n",
    "df['worlwide_gross_income'] = df['worlwide_gross_income'].apply(lambda x:x[1:] if x[:1]== '$' else None)"
   ]
  },
  {
   "cell_type": "code",
   "execution_count": 170,
   "metadata": {},
   "outputs": [
    {
     "data": {
      "text/plain": "array(['PG-13', 'R', 'PG', 'G', 'NR', 'NC17'], dtype=object)"
     },
     "execution_count": 170,
     "metadata": {},
     "output_type": "execute_result"
    }
   ],
   "source": [
    "# df['budget'].apply(lambda x:print(\"error\") if x == '' else x)\n",
    "df['rating'].unique()"
   ]
  },
  {
   "cell_type": "code",
   "execution_count": 171,
   "metadata": {},
   "outputs": [],
   "source": [
    "dic = {'PG-13':1, 'R':2, 'PG':3, 'NR':4, 'G':5, 'NC17':6, 'PG-13)':1}\n",
    "df['rating'] = df['rating'].map(dic)"
   ]
  },
  {
   "cell_type": "code",
   "execution_count": 172,
   "metadata": {},
   "outputs": [
    {
     "data": {
      "text/html": "<div>\n<style scoped>\n    .dataframe tbody tr th:only-of-type {\n        vertical-align: middle;\n    }\n\n    .dataframe tbody tr th {\n        vertical-align: top;\n    }\n\n    .dataframe thead th {\n        text-align: right;\n    }\n</style>\n<table border=\"1\" class=\"dataframe\">\n  <thead>\n    <tr style=\"text-align: right;\">\n      <th></th>\n      <th>title</th>\n      <th>year</th>\n      <th>date_published</th>\n      <th>genre_x</th>\n      <th>duration</th>\n      <th>country</th>\n      <th>director</th>\n      <th>writer</th>\n      <th>production_company</th>\n      <th>actors</th>\n      <th>avg_vote</th>\n      <th>budget</th>\n      <th>usa_gross_income</th>\n      <th>worlwide_gross_income</th>\n      <th>metascore</th>\n      <th>reviews_from_users</th>\n      <th>reviews_from_critics</th>\n      <th>rating</th>\n      <th>tomatometer_rating</th>\n      <th>audience_rating</th>\n    </tr>\n  </thead>\n  <tbody>\n    <tr>\n      <td>0</td>\n      <td>Kate &amp; Leopold</td>\n      <td>2001</td>\n      <td>1017964800000000000</td>\n      <td>Comedy, Fantasy, Romance</td>\n      <td>118</td>\n      <td>USA</td>\n      <td>James Mangold</td>\n      <td>Steven Rogers, James Mangold</td>\n      <td>Konrad Pictures</td>\n      <td>Meg Ryan, Hugh Jackman, Liev Schreiber, Brecki...</td>\n      <td>6.4</td>\n      <td>48000000</td>\n      <td>47121859</td>\n      <td>76019048</td>\n      <td>44.0</td>\n      <td>330.0</td>\n      <td>127.0</td>\n      <td>1</td>\n      <td>50</td>\n      <td>62.0</td>\n    </tr>\n    <tr>\n      <td>3</td>\n      <td>Tusk</td>\n      <td>2014</td>\n      <td>1411084800000000000</td>\n      <td>Comedy, Drama, Horror</td>\n      <td>102</td>\n      <td>USA</td>\n      <td>Kevin Smith</td>\n      <td>Kevin Smith</td>\n      <td>SModcast Pictures</td>\n      <td>Michael Parks, Justin Long, Genesis Rodriguez,...</td>\n      <td>5.3</td>\n      <td>3000000</td>\n      <td>1826705</td>\n      <td>1882074</td>\n      <td>55.0</td>\n      <td>381.0</td>\n      <td>273.0</td>\n      <td>2</td>\n      <td>45</td>\n      <td>36.0</td>\n    </tr>\n    <tr>\n      <td>5</td>\n      <td>The Border</td>\n      <td>1982</td>\n      <td>382320000000000000</td>\n      <td>Crime, Drama, Western</td>\n      <td>108</td>\n      <td>USA</td>\n      <td>Tony Richardson</td>\n      <td>Deric Washburn, Walon Green</td>\n      <td>Efer Productions</td>\n      <td>Jack Nicholson, Harvey Keitel, Valerie Perrine...</td>\n      <td>6.4</td>\n      <td>22000000</td>\n      <td>6118683</td>\n      <td>6118683</td>\n      <td>66.0</td>\n      <td>44.0</td>\n      <td>32.0</td>\n      <td>2</td>\n      <td>80</td>\n      <td>53.0</td>\n    </tr>\n    <tr>\n      <td>8</td>\n      <td>Monster</td>\n      <td>2003</td>\n      <td>1081468800000000000</td>\n      <td>Biography, Crime, Drama</td>\n      <td>109</td>\n      <td>Germany, USA</td>\n      <td>Patty Jenkins</td>\n      <td>Patty Jenkins</td>\n      <td>Media 8 Entertainment</td>\n      <td>Charlize Theron, Christina Ricci, Bruce Dern, ...</td>\n      <td>7.3</td>\n      <td>8000000</td>\n      <td>34469210</td>\n      <td>58469210</td>\n      <td>74.0</td>\n      <td>555.0</td>\n      <td>192.0</td>\n      <td>2</td>\n      <td>81</td>\n      <td>81.0</td>\n    </tr>\n    <tr>\n      <td>12</td>\n      <td>Airplane!</td>\n      <td>1980</td>\n      <td>335145600000000000</td>\n      <td>Comedy</td>\n      <td>88</td>\n      <td>USA</td>\n      <td>Jim Abrahams, David Zucker</td>\n      <td>Jim Abrahams, David Zucker</td>\n      <td>Paramount Pictures</td>\n      <td>Kareem Abdul-Jabbar, Lloyd Bridges, Peter Grav...</td>\n      <td>7.7</td>\n      <td>3500000</td>\n      <td>83453539</td>\n      <td>83453539</td>\n      <td>78.0</td>\n      <td>459.0</td>\n      <td>158.0</td>\n      <td>3</td>\n      <td>97</td>\n      <td>89.0</td>\n    </tr>\n  </tbody>\n</table>\n</div>",
      "text/plain": "             title  year       date_published                   genre_x  \\\n0   Kate & Leopold  2001  1017964800000000000  Comedy, Fantasy, Romance   \n3             Tusk  2014  1411084800000000000     Comedy, Drama, Horror   \n5       The Border  1982   382320000000000000     Crime, Drama, Western   \n8          Monster  2003  1081468800000000000   Biography, Crime, Drama   \n12       Airplane!  1980   335145600000000000                    Comedy   \n\n    duration       country                    director  \\\n0        118           USA               James Mangold   \n3        102           USA                 Kevin Smith   \n5        108           USA             Tony Richardson   \n8        109  Germany, USA               Patty Jenkins   \n12        88           USA  Jim Abrahams, David Zucker   \n\n                          writer     production_company  \\\n0   Steven Rogers, James Mangold        Konrad Pictures   \n3                    Kevin Smith      SModcast Pictures   \n5    Deric Washburn, Walon Green       Efer Productions   \n8                  Patty Jenkins  Media 8 Entertainment   \n12    Jim Abrahams, David Zucker     Paramount Pictures   \n\n                                               actors  avg_vote     budget  \\\n0   Meg Ryan, Hugh Jackman, Liev Schreiber, Brecki...       6.4   48000000   \n3   Michael Parks, Justin Long, Genesis Rodriguez,...       5.3    3000000   \n5   Jack Nicholson, Harvey Keitel, Valerie Perrine...       6.4   22000000   \n8   Charlize Theron, Christina Ricci, Bruce Dern, ...       7.3    8000000   \n12  Kareem Abdul-Jabbar, Lloyd Bridges, Peter Grav...       7.7    3500000   \n\n   usa_gross_income worlwide_gross_income  metascore  reviews_from_users  \\\n0          47121859              76019048       44.0               330.0   \n3           1826705               1882074       55.0               381.0   \n5           6118683               6118683       66.0                44.0   \n8          34469210              58469210       74.0               555.0   \n12         83453539              83453539       78.0               459.0   \n\n    reviews_from_critics  rating  tomatometer_rating  audience_rating  \n0                  127.0       1                  50             62.0  \n3                  273.0       2                  45             36.0  \n5                   32.0       2                  80             53.0  \n8                  192.0       2                  81             81.0  \n12                 158.0       3                  97             89.0  "
     },
     "execution_count": 172,
     "metadata": {},
     "output_type": "execute_result"
    }
   ],
   "source": [
    "df.head()"
   ]
  },
  {
   "cell_type": "code",
   "execution_count": 173,
   "metadata": {},
   "outputs": [],
   "source": [
    "df_x = df[['title', 'year', 'date_published', 'genre_x', 'duration','country', 'director', 'writer', 'production_company', 'actors', 'budget','rating']]\n",
    "df_y = df[[ 'avg_vote', 'metascore', 'reviews_from_users', 'reviews_from_critics','tomatometer_rating', 'audience_rating','usa_gross_income', 'worlwide_gross_income']]"
   ]
  },
  {
   "cell_type": "code",
   "execution_count": 174,
   "metadata": {},
   "outputs": [],
   "source": [
    "df_x.to_csv('inputInfo_X.csv', encoding='utf-8',index=False)\n",
    "df_y.to_csv('inputInfo_Y.csv', encoding='utf-8',index=False)"
   ]
  },
  {
   "cell_type": "code",
   "execution_count": null,
   "metadata": {},
   "outputs": [],
   "source": []
  }
 ]
}